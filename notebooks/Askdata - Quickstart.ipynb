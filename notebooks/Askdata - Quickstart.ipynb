{
  "nbformat": 4,
  "nbformat_minor": 0,
  "metadata": {
    "colab": {
      "name": "Askdata.ipynb",
      "provenance": [],
      "collapsed_sections": [],
      "include_colab_link": true
    },
    "kernelspec": {
      "name": "python3",
      "display_name": "Python 3"
    }
  },
  "cells": [
    {
      "cell_type": "markdown",
      "metadata": {
        "id": "view-in-github",
        "colab_type": "text"
      },
      "source": [
        "<a href=\"https://colab.research.google.com/github/AskdataHQ/askdata-docs/blob/gh-pages/notebooks/Askdata%20-%20Quickstart.ipynb\" target=\"_parent\"><img src=\"https://colab.research.google.com/assets/colab-badge.svg\" alt=\"Open In Colab\"/></a>"
      ]
    },
    {
      "cell_type": "code",
      "metadata": {
        "id": "gtGB7VsECQnd",
        "colab_type": "code",
        "colab": {}
      },
      "source": [
        "#Let's install Askdata\n",
        "!pip install askdata\n"
      ],
      "execution_count": 0,
      "outputs": []
    },
    {
      "cell_type": "code",
      "metadata": {
        "id": "7TaIMIG_Of5t",
        "colab_type": "code",
        "colab": {}
      },
      "source": [
        "#Import of the library\n",
        "from askdata import Askdata, Agent\n",
        "import pandas as pd\n"
      ],
      "execution_count": 0,
      "outputs": []
    },
    {
      "cell_type": "code",
      "metadata": {
        "id": "_AK2UyhgO_HM",
        "colab_type": "code",
        "outputId": "292484f5-22ce-4c24-cf75-2fc198f4a0b5",
        "colab": {
          "base_uri": "https://localhost:8080/",
          "height": 51
        }
      },
      "source": [
        "# Authenticate providing username and password\n",
        "askdata = Askdata()\n",
        "# If you don't have an account you can register from here: https://app.askdata.com/signup - remember to confirm your e-mail"
      ],
      "execution_count": 0,
      "outputs": [
        {
          "output_type": "stream",
          "text": [
            "Askdata Username: your-name@mail.com\n",
            "Askdata Password: ··········\n"
          ],
          "name": "stdout"
        }
      ]
    },
    {
      "cell_type": "code",
      "metadata": {
        "id": "kKCgin8PvmLW",
        "colab_type": "code",
        "outputId": "d6f6d026-d046-4687-84d9-d4ba24525901",
        "colab": {
          "base_uri": "https://localhost:8080/",
          "height": 142
        }
      },
      "source": [
        "# Simple query\n",
        "df = askdata.get('give me sales by countries', workspace='sales_demo')\n",
        "df\n"
      ],
      "execution_count": 0,
      "outputs": [
        {
          "output_type": "execute_result",
          "data": {
            "text/html": [
              "<div>\n",
              "<style scoped>\n",
              "    .dataframe tbody tr th:only-of-type {\n",
              "        vertical-align: middle;\n",
              "    }\n",
              "\n",
              "    .dataframe tbody tr th {\n",
              "        vertical-align: top;\n",
              "    }\n",
              "\n",
              "    .dataframe thead th {\n",
              "        text-align: right;\n",
              "    }\n",
              "</style>\n",
              "<table border=\"1\" class=\"dataframe\">\n",
              "  <thead>\n",
              "    <tr style=\"text-align: right;\">\n",
              "      <th></th>\n",
              "      <th>Store Country</th>\n",
              "      <th>Store sales</th>\n",
              "    </tr>\n",
              "  </thead>\n",
              "  <tbody>\n",
              "    <tr>\n",
              "      <th>0</th>\n",
              "      <td>USA</td>\n",
              "      <td>1,116,046.55 $</td>\n",
              "    </tr>\n",
              "    <tr>\n",
              "      <th>1</th>\n",
              "      <td>Mexico</td>\n",
              "      <td>430,293.59 $</td>\n",
              "    </tr>\n",
              "    <tr>\n",
              "      <th>2</th>\n",
              "      <td>Canada</td>\n",
              "      <td>98,045.46 $</td>\n",
              "    </tr>\n",
              "  </tbody>\n",
              "</table>\n",
              "</div>"
            ],
            "text/plain": [
              "  Store Country     Store sales\n",
              "0           USA  1,116,046.55 $\n",
              "1        Mexico    430,293.59 $\n",
              "2        Canada     98,045.46 $"
            ]
          },
          "metadata": {
            "tags": []
          },
          "execution_count": 15
        }
      ]
    },
    {
      "cell_type": "code",
      "metadata": {
        "id": "jJDN501Zu1Hj",
        "colab_type": "code",
        "colab": {}
      },
      "source": [
        "#create one dataset on another agent starting from a dataframe\n",
        "askdata.save(df, dataset_name='My Sales', workspace='other_workspace_slug')\n"
      ],
      "execution_count": 0,
      "outputs": []
    }
  ]
}
